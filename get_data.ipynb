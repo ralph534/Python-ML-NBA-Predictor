{
 "cells": [
  {
   "cell_type": "code",
   "execution_count": 2,
   "id": "6e3395cf-9b36-49ed-870f-277185391c80",
   "metadata": {},
   "outputs": [],
   "source": [
    "import os\n",
    "from bs4 import BeautifulSoup\n",
    "from playwright.async_api import async_playwright, TimeoutError as PlaywrightTimeout\n",
    "import time"
   ]
  },
  {
   "cell_type": "code",
   "execution_count": 3,
   "id": "dfd48e94-84c7-4d97-9ddd-30445a456882",
   "metadata": {},
   "outputs": [],
   "source": [
    "SEASONS = list(range(2016, 2023))"
   ]
  },
  {
   "cell_type": "code",
   "execution_count": 4,
   "id": "5533b746-1003-499a-a873-f82d0977c8ed",
   "metadata": {},
   "outputs": [],
   "source": [
    "DATA_DIR = \"data\"\n",
    "STANDING_DIR = os.path.join(DATA_DIR, \"standing\")\n",
    "SCORES_DIR = os.path.join(DATA_DIR, \"scores\")"
   ]
  },
  {
   "cell_type": "code",
   "execution_count": 5,
   "id": "98505fe4-df32-4d44-95a8-1fde143e0c7b",
   "metadata": {},
   "outputs": [],
   "source": [
    "async def get_html(url, selector, sleep=5, retries=3):\n",
    "    html = None\n",
    "    for i in range(1, retries):\n",
    "        time.sleep(sleep * 1)\n",
    "\n",
    "        try:\n",
    "            async with async_playwright() as p:\n",
    "                browser = await p.firefox.launch()\n",
    "                page = await browser.new_page()\n",
    "                await page.goto(url)\n",
    "                print (await page.title())\n",
    "                html = await page.inner_html(selector)\n",
    "        except PlaywrightTimeout:\n",
    "            print(f\"Timeout error on {url}\")\n",
    "            continue\n",
    "        else:\n",
    "            break\n",
    "    return html"
   ]
  },
  {
   "cell_type": "code",
   "execution_count": 19,
   "id": "3daa3072-fa3c-4e57-98f8-74ea5f449f22",
   "metadata": {},
   "outputs": [],
   "source": [
    "async def scrape_season(season):\n",
    "    url = f\"https://www.basketball-reference.com/leagues/NBA_{season}_games.html\"\n",
    "    html = await get_html(url, \"#content .filter\")\n",
    "    \n",
    "    soup = BeautifulSoup(html)\n",
    "    links = soup.find_all(\"a\")\n",
    "    href = [l[\"href\"] for l in links]\n",
    "    standings_pages = [f\"https://www.basketball-reference.com{l}\" for l in href]\n",
    "\n",
    "    for url in standings_pages:\n",
    "        save_path = os.path.join(STANDING_DIR, url.split(\"/\")[-1])\n",
    "        if os.path.exists(save_path):\n",
    "            continue\n",
    "\n",
    "    html = await get_html(url, \"#all_schedule\")\n",
    "    with open (save_path, \"w+\") as f:\n",
    "        f.write(html)"
   ]
  },
  {
   "cell_type": "code",
   "execution_count": 20,
   "id": "d3236f98-ac09-4a61-9677-ce5507e92ebb",
   "metadata": {},
   "outputs": [
    {
     "name": "stdout",
     "output_type": "stream",
     "text": [
      "2015-16 NBA Schedule | Basketball-Reference.com\n",
      "2015-16 NBA Schedule | Basketball-Reference.com\n",
      "2016-17 NBA Schedule | Basketball-Reference.com\n",
      "2016-17 NBA Schedule | Basketball-Reference.com\n",
      "2017-18 NBA Schedule | Basketball-Reference.com\n",
      "2017-18 NBA Schedule | Basketball-Reference.com\n",
      "2018-19 NBA Schedule | Basketball-Reference.com\n",
      "2018-19 NBA Schedule | Basketball-Reference.com\n",
      "2019-20 NBA Schedule | Basketball-Reference.com\n",
      "2019-20 NBA Schedule | Basketball-Reference.com\n",
      "2020-21 NBA Schedule | Basketball-Reference.com\n",
      "2020-21 NBA Schedule | Basketball-Reference.com\n",
      "2021-22 NBA Schedule | Basketball-Reference.com\n",
      "2021-22 NBA Schedule | Basketball-Reference.com\n"
     ]
    }
   ],
   "source": [
    "for season in SEASONS:\n",
    "    await scrape_season(season)"
   ]
  },
  {
   "cell_type": "code",
   "execution_count": 21,
   "id": "08a6e52f-c49b-42ac-a5d1-90131d2e59c2",
   "metadata": {},
   "outputs": [],
   "source": [
    "standings_files = os.listdir(STANDING_DIR)"
   ]
  },
  {
   "cell_type": "code",
   "execution_count": 29,
   "id": "92f8f3d9-bea8-48a5-bea2-c68b2fbc979e",
   "metadata": {},
   "outputs": [],
   "source": [
    "async def scrape_game(standings_file):\n",
    "    with open(standings_file, 'r') as f:\n",
    "        html = f.read()\n",
    "    \n",
    "    soup = BeautifulSoup(html)\n",
    "    links = soup.find_all(\"a\")\n",
    "    hrefs = [l.get(\"href\") for l in links]\n",
    "    box_scores = [l for l in hrefs if l and \"boxscore\" in l and \".html\" in l]\n",
    "    box_scores = [f\"https://www.basketball-reference.com{l}\" for l in box_scores]\n",
    "    \n",
    "    for url in box_scores:\n",
    "        save_path = os.path.join(SCORES_DIR, url.split(\"/\")[-1])\n",
    "        if os.path.exists(save_path):\n",
    "            continue\n",
    "    \n",
    "        html = await get_html(url, \"#content\")\n",
    "        if not html:\n",
    "            continue\n",
    "        with open(save_path, \"w+\") as f:\n",
    "            f.write(html)"
   ]
  },
  {
   "cell_type": "code",
   "execution_count": 30,
   "id": "9c0c26cb-a319-4885-8ad8-c0427c63e3ef",
   "metadata": {},
   "outputs": [
    {
     "name": "stdout",
     "output_type": "stream",
     "text": [
      "2020 NBA Eastern Conference Semifinals Game 2: Celtics vs Raptors, September 1, 2020 | Basketball-Reference.com\n",
      "2020 NBA Western Conference First Round Game 7: Jazz vs Nuggets, September 1, 2020 | Basketball-Reference.com\n",
      "2020 NBA Eastern Conference Semifinals Game 2: Heat vs Bucks, September 2, 2020 | Basketball-Reference.com\n",
      "2020 NBA Western Conference First Round Game 7: Thunder vs Rockets, September 2, 2020 | Basketball-Reference.com\n",
      "2020 NBA Eastern Conference Semifinals Game 3: Raptors vs Celtics, September 3, 2020 | Basketball-Reference.com\n",
      "Timeout error on https://www.basketball-reference.com/boxscores/202009030LAC.html\n",
      "2020 NBA Western Conference Semifinals Game 1: Nuggets vs Clippers, September 3, 2020 | Basketball-Reference.com\n",
      "2020 NBA Eastern Conference Semifinals Game 3: Bucks vs Heat, September 4, 2020 | Basketball-Reference.com\n",
      "2020 NBA Western Conference Semifinals Game 1: Rockets vs Lakers, September 4, 2020 | Basketball-Reference.com\n",
      "2020 NBA Eastern Conference Semifinals Game 4: Raptors vs Celtics, September 5, 2020 | Basketball-Reference.com\n",
      "2020 NBA Western Conference Semifinals Game 2: Nuggets vs Clippers, September 5, 2020 | Basketball-Reference.com\n",
      "2020 NBA Eastern Conference Semifinals Game 4: Bucks vs Heat, September 6, 2020 | Basketball-Reference.com\n",
      "2020 NBA Western Conference Semifinals Game 2: Rockets vs Lakers, September 6, 2020 | Basketball-Reference.com\n",
      "2020 NBA Eastern Conference Semifinals Game 5: Celtics vs Raptors, September 7, 2020 | Basketball-Reference.com\n",
      "2020 NBA Western Conference Semifinals Game 3: Clippers vs Nuggets, September 7, 2020 | Basketball-Reference.com\n",
      "2020 NBA Eastern Conference Semifinals Game 5: Heat vs Bucks, September 8, 2020 | Basketball-Reference.com\n",
      "Timeout error on https://www.basketball-reference.com/boxscores/202009080HOU.html\n",
      "2020 NBA Western Conference Semifinals Game 3: Lakers vs Rockets, September 8, 2020 | Basketball-Reference.com\n",
      "Timeout error on https://www.basketball-reference.com/boxscores/202009090BOS.html\n",
      "2020 NBA Eastern Conference Semifinals Game 6: Raptors vs Celtics, September 9, 2020 | Basketball-Reference.com\n",
      "2020 NBA Western Conference Semifinals Game 4: Clippers vs Nuggets, September 9, 2020 | Basketball-Reference.com\n",
      "Timeout error on https://www.basketball-reference.com/boxscores/202009100HOU.html\n",
      "2020 NBA Western Conference Semifinals Game 4: Lakers vs Rockets, September 10, 2020 | Basketball-Reference.com\n",
      "2020 NBA Western Conference Semifinals Game 5: Nuggets vs Clippers, September 11, 2020 | Basketball-Reference.com\n",
      "2020 NBA Eastern Conference Semifinals Game 7: Celtics vs Raptors, September 11, 2020 | Basketball-Reference.com\n",
      "2020 NBA Western Conference Semifinals Game 5: Rockets vs Lakers, September 12, 2020 | Basketball-Reference.com\n",
      "2020 NBA Western Conference Semifinals Game 6: Clippers vs Nuggets, September 13, 2020 | Basketball-Reference.com\n",
      "2020 NBA Eastern Conference Finals Game 1: Heat vs Celtics, September 15, 2020 | Basketball-Reference.com\n",
      "2020 NBA Western Conference Semifinals Game 7: Nuggets vs Clippers, September 15, 2020 | Basketball-Reference.com\n",
      "2020 NBA Eastern Conference Finals Game 2: Heat vs Celtics, September 17, 2020 | Basketball-Reference.com\n",
      "2020 NBA Western Conference Finals Game 1: Nuggets vs Lakers, September 18, 2020 | Basketball-Reference.com\n",
      "2020 NBA Eastern Conference Finals Game 3: Celtics vs Heat, September 19, 2020 | Basketball-Reference.com\n",
      "2020 NBA Western Conference Finals Game 2: Nuggets vs Lakers, September 20, 2020 | Basketball-Reference.com\n",
      "2020 NBA Western Conference Finals Game 3: Lakers vs Nuggets, September 22, 2020 | Basketball-Reference.com\n",
      "2020 NBA Eastern Conference Finals Game 4: Celtics vs Heat, September 23, 2020 | Basketball-Reference.com\n",
      "2020 NBA Western Conference Finals Game 4: Lakers vs Nuggets, September 24, 2020 | Basketball-Reference.com\n",
      "Timeout error on https://www.basketball-reference.com/boxscores/202009250BOS.html\n",
      "2020 NBA Eastern Conference Finals Game 5: Heat vs Celtics, September 25, 2020 | Basketball-Reference.com\n",
      "2020 NBA Western Conference Finals Game 5: Nuggets vs Lakers, September 26, 2020 | Basketball-Reference.com\n",
      "2020 NBA Eastern Conference Finals Game 6: Celtics vs Heat, September 27, 2020 | Basketball-Reference.com\n",
      "2020 NBA Finals Game 1: Heat vs Lakers, September 30, 2020 | Basketball-Reference.com\n",
      "Timeout error on https://www.basketball-reference.com/boxscores/201706010GSW.html\n",
      "2017 NBA Finals Game 1: Cavaliers vs Warriors, June 1, 2017 | Basketball-Reference.com\n",
      "2017 NBA Finals Game 2: Cavaliers vs Warriors, June 4, 2017 | Basketball-Reference.com\n",
      "2017 NBA Finals Game 3: Warriors vs Cavaliers, June 7, 2017 | Basketball-Reference.com\n",
      "2017 NBA Finals Game 4: Warriors vs Cavaliers, June 9, 2017 | Basketball-Reference.com\n",
      "2017 NBA Finals Game 5: Cavaliers vs Warriors, June 12, 2017 | Basketball-Reference.com\n",
      "2018 NBA Finals Game 2: Cavaliers vs Warriors, June 3, 2018 | Basketball-Reference.com\n",
      "2018 NBA Finals Game 3: Warriors vs Cavaliers, June 6, 2018 | Basketball-Reference.com\n",
      "2018 NBA Finals Game 4: Warriors vs Cavaliers, June 8, 2018 | Basketball-Reference.com\n",
      "Timeout error on https://www.basketball-reference.com/boxscores/202107010MIL.html\n",
      "2021 NBA Eastern Conference Finals Game 5: Hawks vs Bucks, July 1, 2021 | Basketball-Reference.com\n",
      "2021 NBA Eastern Conference Finals Game 6: Bucks vs Hawks, July 3, 2021 | Basketball-Reference.com\n",
      "2021 NBA Finals Game 1: Bucks vs Suns, July 6, 2021 | Basketball-Reference.com\n",
      "Timeout error on https://www.basketball-reference.com/boxscores/202107080PHO.html\n",
      "2021 NBA Finals Game 2: Bucks vs Suns, July 8, 2021 | Basketball-Reference.com\n",
      "2021 NBA Finals Game 3: Suns vs Bucks, July 11, 2021 | Basketball-Reference.com\n",
      "2021 NBA Finals Game 4: Suns vs Bucks, July 14, 2021 | Basketball-Reference.com\n",
      "2021 NBA Finals Game 5: Bucks vs Suns, July 17, 2021 | Basketball-Reference.com\n",
      "2021 NBA Finals Game 6: Suns vs Bucks, July 20, 2021 | Basketball-Reference.com\n",
      "2022 NBA Finals Game 1: Celtics vs Warriors, June 2, 2022 | Basketball-Reference.com\n",
      "2022 NBA Finals Game 2: Celtics vs Warriors, June 5, 2022 | Basketball-Reference.com\n",
      "2022 NBA Finals Game 3: Warriors vs Celtics, June 8, 2022 | Basketball-Reference.com\n",
      "2022 NBA Finals Game 4: Warriors vs Celtics, June 10, 2022 | Basketball-Reference.com\n",
      "2022 NBA Finals Game 5: Celtics vs Warriors, June 13, 2022 | Basketball-Reference.com\n",
      "2022 NBA Finals Game 6: Warriors vs Celtics, June 16, 2022 | Basketball-Reference.com\n",
      "2016 NBA Finals Game 1: Cavaliers vs Warriors, June 2, 2016 | Basketball-Reference.com\n",
      "2016 NBA Finals Game 2: Cavaliers vs Warriors, June 5, 2016 | Basketball-Reference.com\n",
      "2016 NBA Finals Game 3: Warriors vs Cavaliers, June 8, 2016 | Basketball-Reference.com\n",
      "2016 NBA Finals Game 4: Warriors vs Cavaliers, June 10, 2016 | Basketball-Reference.com\n",
      "2016 NBA Finals Game 5: Cavaliers vs Warriors, June 13, 2016 | Basketball-Reference.com\n",
      "2016 NBA Finals Game 6: Warriors vs Cavaliers, June 16, 2016 | Basketball-Reference.com\n",
      "2016 NBA Finals Game 7: Cavaliers vs Warriors, June 19, 2016 | Basketball-Reference.com\n",
      "2019 NBA Finals Game 2: Warriors vs Raptors, June 2, 2019 | Basketball-Reference.com\n",
      "2019 NBA Finals Game 3: Raptors vs Warriors, June 5, 2019 | Basketball-Reference.com\n",
      "2019 NBA Finals Game 4: Raptors vs Warriors, June 7, 2019 | Basketball-Reference.com\n",
      "2019 NBA Finals Game 5: Warriors vs Raptors, June 10, 2019 | Basketball-Reference.com\n",
      "2019 NBA Finals Game 6: Raptors vs Warriors, June 13, 2019 | Basketball-Reference.com\n"
     ]
    }
   ],
   "source": [
    "for f in standings_files:\n",
    "        filepath = os.path.join(STANDING_DIR, f)\n",
    "\n",
    "        await scrape_game(filepath)"
   ]
  },
  {
   "cell_type": "code",
   "execution_count": null,
   "id": "d2b43e78-6219-4912-bdef-722ec6a67814",
   "metadata": {},
   "outputs": [],
   "source": []
  }
 ],
 "metadata": {
  "kernelspec": {
   "display_name": "Python 3 (ipykernel)",
   "language": "python",
   "name": "python3"
  },
  "language_info": {
   "codemirror_mode": {
    "name": "ipython",
    "version": 3
   },
   "file_extension": ".py",
   "mimetype": "text/x-python",
   "name": "python",
   "nbconvert_exporter": "python",
   "pygments_lexer": "ipython3",
   "version": "3.10.11"
  }
 },
 "nbformat": 4,
 "nbformat_minor": 5
}
