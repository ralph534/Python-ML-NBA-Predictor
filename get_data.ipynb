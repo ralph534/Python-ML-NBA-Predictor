{
 "cells": [
  {
   "cell_type": "code",
   "execution_count": 2,
   "id": "6e3395cf-9b36-49ed-870f-277185391c80",
   "metadata": {},
   "outputs": [],
   "source": [
    "import os\n",
    "from bs4 import BeautifulSoup\n",
    "from playwright.async_api import async_playwright, TimeoutError as PlaywrightTimeout\n",
    "import time"
   ]
  },
  {
   "cell_type": "code",
   "execution_count": 3,
   "id": "dfd48e94-84c7-4d97-9ddd-30445a456882",
   "metadata": {},
   "outputs": [],
   "source": [
    "SEASONS = list(range(2016, 2023))"
   ]
  },
  {
   "cell_type": "code",
   "execution_count": 4,
   "id": "5533b746-1003-499a-a873-f82d0977c8ed",
   "metadata": {},
   "outputs": [],
   "source": [
    "DATA_DIR = \"data\"\n",
    "STANDING_DIR = os.path.join(DATA_DIR, \"standing\")\n",
    "SCORES_DIR = os.path.join(DATA_DIR, \"scores\")"
   ]
  },
  {
   "cell_type": "code",
   "execution_count": 5,
   "id": "98505fe4-df32-4d44-95a8-1fde143e0c7b",
   "metadata": {},
   "outputs": [],
   "source": [
    "async def get_html(url, selector, sleep=5, retries=3):\n",
    "    html = None\n",
    "    for i in range(1, retries):\n",
    "        time.sleep(sleep * 1)\n",
    "\n",
    "        try:\n",
    "            async with async_playwright() as p:\n",
    "                browser = await p.firefox.launch()\n",
    "                page = await browser.new_page()\n",
    "                await page.goto(url)\n",
    "                print (await page.title())\n",
    "                html = await page.inner_html(selector)\n",
    "        except PlaywrightTimeout:\n",
    "            print(f\"Timeout error on {url}\")\n",
    "            continue\n",
    "        else:\n",
    "            break\n",
    "    return html"
   ]
  },
  {
   "cell_type": "code",
   "execution_count": 19,
   "id": "3daa3072-fa3c-4e57-98f8-74ea5f449f22",
   "metadata": {},
   "outputs": [],
   "source": [
    "async def scrape_season(season):\n",
    "    url = f\"https://www.basketball-reference.com/leagues/NBA_{season}_games.html\"\n",
    "    html = await get_html(url, \"#content .filter\")\n",
    "    \n",
    "    soup = BeautifulSoup(html)\n",
    "    links = soup.find_all(\"a\")\n",
    "    href = [l[\"href\"] for l in links]\n",
    "    standings_pages = [f\"https://www.basketball-reference.com{l}\" for l in href]\n",
    "\n",
    "    for url in standings_pages:\n",
    "        save_path = os.path.join(STANDING_DIR, url.split(\"/\")[-1])\n",
    "        if os.path.exists(save_path):\n",
    "            continue\n",
    "\n",
    "    html = await get_html(url, \"#all_schedule\")\n",
    "    with open (save_path, \"w+\") as f:\n",
    "        f.write(html)"
   ]
  },
  {
   "cell_type": "code",
   "execution_count": 20,
   "id": "d3236f98-ac09-4a61-9677-ce5507e92ebb",
   "metadata": {},
   "outputs": [
    {
     "name": "stdout",
     "output_type": "stream",
     "text": [
      "2015-16 NBA Schedule | Basketball-Reference.com\n",
      "2015-16 NBA Schedule | Basketball-Reference.com\n",
      "2016-17 NBA Schedule | Basketball-Reference.com\n",
      "2016-17 NBA Schedule | Basketball-Reference.com\n",
      "2017-18 NBA Schedule | Basketball-Reference.com\n",
      "2017-18 NBA Schedule | Basketball-Reference.com\n",
      "2018-19 NBA Schedule | Basketball-Reference.com\n",
      "2018-19 NBA Schedule | Basketball-Reference.com\n",
      "2019-20 NBA Schedule | Basketball-Reference.com\n",
      "2019-20 NBA Schedule | Basketball-Reference.com\n",
      "2020-21 NBA Schedule | Basketball-Reference.com\n",
      "2020-21 NBA Schedule | Basketball-Reference.com\n",
      "2021-22 NBA Schedule | Basketball-Reference.com\n",
      "2021-22 NBA Schedule | Basketball-Reference.com\n"
     ]
    }
   ],
   "source": [
    "for season in SEASONS:\n",
    "    await scrape_season(season)"
   ]
  },
  {
   "cell_type": "code",
   "execution_count": 21,
   "id": "08a6e52f-c49b-42ac-a5d1-90131d2e59c2",
   "metadata": {},
   "outputs": [],
   "source": [
    "standings_files = os.listdir(STANDING_DIR)"
   ]
  },
  {
   "cell_type": "code",
   "execution_count": 27,
   "id": "92f8f3d9-bea8-48a5-bea2-c68b2fbc979e",
   "metadata": {},
   "outputs": [],
   "source": [
    "standings_file = os.path.join(STANDING_DIR, standings_files[0])\n",
    "with open(standings_file, 'r') as f:\n",
    "    html = f.read()\n",
    "\n",
    "soup = BeautifulSoup(html)\n",
    "links = soup.find_all(\"a\")\n",
    "hrefs = [l.get(\"href\") for l in links]\n",
    "box_scores = [l for l in hrefs if l and \"boxscore\" in l and \".html\" in l]\n",
    "box_scores = [f\"https://www.basketball-reference.com{l}\" for l in box_scores]"
   ]
  },
  {
   "cell_type": "code",
   "execution_count": 28,
   "id": "75c3103e-cd0d-4925-91b9-c41353e2a932",
   "metadata": {},
   "outputs": [
    {
     "data": {
      "text/plain": [
       "['https://www.basketball-reference.com/boxscores/202009010TOR.html',\n",
       " 'https://www.basketball-reference.com/boxscores/202009010DEN.html',\n",
       " 'https://www.basketball-reference.com/boxscores/202009020MIL.html',\n",
       " 'https://www.basketball-reference.com/boxscores/202009020HOU.html',\n",
       " 'https://www.basketball-reference.com/boxscores/202009030BOS.html',\n",
       " 'https://www.basketball-reference.com/boxscores/202009030LAC.html',\n",
       " 'https://www.basketball-reference.com/boxscores/202009040MIA.html',\n",
       " 'https://www.basketball-reference.com/boxscores/202009040LAL.html',\n",
       " 'https://www.basketball-reference.com/boxscores/202009050BOS.html',\n",
       " 'https://www.basketball-reference.com/boxscores/202009050LAC.html',\n",
       " 'https://www.basketball-reference.com/boxscores/202009060MIA.html',\n",
       " 'https://www.basketball-reference.com/boxscores/202009060LAL.html',\n",
       " 'https://www.basketball-reference.com/boxscores/202009070TOR.html',\n",
       " 'https://www.basketball-reference.com/boxscores/202009070DEN.html',\n",
       " 'https://www.basketball-reference.com/boxscores/202009080MIL.html',\n",
       " 'https://www.basketball-reference.com/boxscores/202009080HOU.html',\n",
       " 'https://www.basketball-reference.com/boxscores/202009090BOS.html',\n",
       " 'https://www.basketball-reference.com/boxscores/202009090DEN.html',\n",
       " 'https://www.basketball-reference.com/boxscores/202009100HOU.html',\n",
       " 'https://www.basketball-reference.com/boxscores/202009110LAC.html',\n",
       " 'https://www.basketball-reference.com/boxscores/202009110TOR.html',\n",
       " 'https://www.basketball-reference.com/boxscores/202009120LAL.html',\n",
       " 'https://www.basketball-reference.com/boxscores/202009130DEN.html',\n",
       " 'https://www.basketball-reference.com/boxscores/202009150BOS.html',\n",
       " 'https://www.basketball-reference.com/boxscores/202009150LAC.html',\n",
       " 'https://www.basketball-reference.com/boxscores/202009170BOS.html',\n",
       " 'https://www.basketball-reference.com/boxscores/202009180LAL.html',\n",
       " 'https://www.basketball-reference.com/boxscores/202009190MIA.html',\n",
       " 'https://www.basketball-reference.com/boxscores/202009200LAL.html',\n",
       " 'https://www.basketball-reference.com/boxscores/202009220DEN.html',\n",
       " 'https://www.basketball-reference.com/boxscores/202009230MIA.html',\n",
       " 'https://www.basketball-reference.com/boxscores/202009240DEN.html',\n",
       " 'https://www.basketball-reference.com/boxscores/202009250BOS.html',\n",
       " 'https://www.basketball-reference.com/boxscores/202009260LAL.html',\n",
       " 'https://www.basketball-reference.com/boxscores/202009270MIA.html',\n",
       " 'https://www.basketball-reference.com/boxscores/202009300LAL.html']"
      ]
     },
     "execution_count": 28,
     "metadata": {},
     "output_type": "execute_result"
    }
   ],
   "source": [
    "box_scores"
   ]
  },
  {
   "cell_type": "code",
   "execution_count": null,
   "id": "9c0c26cb-a319-4885-8ad8-c0427c63e3ef",
   "metadata": {},
   "outputs": [],
   "source": []
  }
 ],
 "metadata": {
  "kernelspec": {
   "display_name": "Python 3 (ipykernel)",
   "language": "python",
   "name": "python3"
  },
  "language_info": {
   "codemirror_mode": {
    "name": "ipython",
    "version": 3
   },
   "file_extension": ".py",
   "mimetype": "text/x-python",
   "name": "python",
   "nbconvert_exporter": "python",
   "pygments_lexer": "ipython3",
   "version": "3.10.11"
  }
 },
 "nbformat": 4,
 "nbformat_minor": 5
}
