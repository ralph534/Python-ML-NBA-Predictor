{
 "cells": [
  {
   "cell_type": "code",
   "execution_count": 2,
   "id": "6e3395cf-9b36-49ed-870f-277185391c80",
   "metadata": {},
   "outputs": [],
   "source": [
    "import os\n",
    "from bs4 import BeautifulSoup\n",
    "from playwright.async_api import async_playwright, TimeoutError as PlaywrightTimeout\n",
    "import time"
   ]
  },
  {
   "cell_type": "code",
   "execution_count": 3,
   "id": "dfd48e94-84c7-4d97-9ddd-30445a456882",
   "metadata": {},
   "outputs": [],
   "source": [
    "SEASONS = list(range(2016, 2023))"
   ]
  },
  {
   "cell_type": "code",
   "execution_count": 4,
   "id": "5533b746-1003-499a-a873-f82d0977c8ed",
   "metadata": {},
   "outputs": [],
   "source": [
    "DATA_DIR = \"data\"\n",
    "STANDING_DIR = os.path.join(DATA_DIR, \"standing\")\n",
    "SCORES_DIR = os.path.join(DATA_DIR, \"scores\")"
   ]
  },
  {
   "cell_type": "code",
   "execution_count": 5,
   "id": "98505fe4-df32-4d44-95a8-1fde143e0c7b",
   "metadata": {},
   "outputs": [],
   "source": [
    "async def get_html(url, selector, sleep=5, retries=3):\n",
    "    html = None\n",
    "    for i in range(1, retries):\n",
    "        time.sleep(sleep * 1)\n",
    "\n",
    "        try:\n",
    "            async with async_playwright() as p:\n",
    "                browser = await p.firefox.launch()\n",
    "                page = await browser.new_page()\n",
    "                await page.goto(url)\n",
    "                print (await page.title())\n",
    "                html = await page.inner_html(selector)\n",
    "        except PlaywrightTimeout:\n",
    "            print(f\"Timeout error on {url}\")\n",
    "            continue\n",
    "        else:\n",
    "            break\n",
    "    return html"
   ]
  },
  {
   "cell_type": "code",
   "execution_count": 6,
   "id": "952a7530-2352-42e7-a4b7-d9e7424173a4",
   "metadata": {},
   "outputs": [],
   "source": [
    "season = 2016\n",
    "\n",
    "url = f\"https://www.basketball-reference.com/leagues/NBA_{season}_games.html\""
   ]
  },
  {
   "cell_type": "code",
   "execution_count": 7,
   "id": "63c138ea-2e9f-4c3a-8c69-3327b78d2a84",
   "metadata": {},
   "outputs": [
    {
     "data": {
      "text/plain": [
       "'https://www.basketball-reference.com/leagues/NBA_2016_games.html'"
      ]
     },
     "execution_count": 7,
     "metadata": {},
     "output_type": "execute_result"
    }
   ],
   "source": [
    "url"
   ]
  },
  {
   "cell_type": "code",
   "execution_count": 8,
   "id": "13be0c5b-0c60-4879-b2cf-429653aff615",
   "metadata": {},
   "outputs": [
    {
     "name": "stdout",
     "output_type": "stream",
     "text": [
      "2015-16 NBA Schedule | Basketball-Reference.com\n"
     ]
    }
   ],
   "source": [
    "html = await get_html(url, \"#content .filter\")"
   ]
  },
  {
   "cell_type": "code",
   "execution_count": 12,
   "id": "8e78275c-438f-4f5e-9600-0e05cb6c3bc2",
   "metadata": {},
   "outputs": [],
   "source": [
    "soup = BeautifulSoup(html)\n",
    "links = soup.find_all(\"a\")\n",
    "href = [l[\"href\"] for l in links]"
   ]
  },
  {
   "cell_type": "code",
   "execution_count": 13,
   "id": "f1dbc003-2f7e-4263-b3da-f3f6073f66d3",
   "metadata": {},
   "outputs": [
    {
     "data": {
      "text/plain": [
       "['/leagues/NBA_2016_games-october.html',\n",
       " '/leagues/NBA_2016_games-november.html',\n",
       " '/leagues/NBA_2016_games-december.html',\n",
       " '/leagues/NBA_2016_games-january.html',\n",
       " '/leagues/NBA_2016_games-february.html',\n",
       " '/leagues/NBA_2016_games-march.html',\n",
       " '/leagues/NBA_2016_games-april.html',\n",
       " '/leagues/NBA_2016_games-may.html',\n",
       " '/leagues/NBA_2016_games-june.html']"
      ]
     },
     "execution_count": 13,
     "metadata": {},
     "output_type": "execute_result"
    }
   ],
   "source": [
    "href"
   ]
  },
  {
   "cell_type": "code",
   "execution_count": null,
   "id": "ed318244-a590-4bd6-8ec7-c7c1dd38b97d",
   "metadata": {},
   "outputs": [],
   "source": []
  }
 ],
 "metadata": {
  "kernelspec": {
   "display_name": "Python 3 (ipykernel)",
   "language": "python",
   "name": "python3"
  },
  "language_info": {
   "codemirror_mode": {
    "name": "ipython",
    "version": 3
   },
   "file_extension": ".py",
   "mimetype": "text/x-python",
   "name": "python",
   "nbconvert_exporter": "python",
   "pygments_lexer": "ipython3",
   "version": "3.10.11"
  }
 },
 "nbformat": 4,
 "nbformat_minor": 5
}
