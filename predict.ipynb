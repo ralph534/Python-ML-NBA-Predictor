{
 "cells": [
  {
   "cell_type": "code",
   "execution_count": 1,
   "id": "76e23df4-cc59-4649-8e11-628f322c2e7a",
   "metadata": {},
   "outputs": [],
   "source": [
    "import pandas as pd"
   ]
  },
  {
   "cell_type": "code",
   "execution_count": null,
   "id": "02509ebd-5ee5-43f1-a346-b79a7cc606c5",
   "metadata": {},
   "outputs": [],
   "source": [
    "df = pd.read_csv(\"nba_games.csv\", index_col=0)"
   ]
  },
  {
   "cell_type": "code",
   "execution_count": null,
   "id": "2ab45fab-55c4-4913-9dde-b11422620199",
   "metadata": {},
   "outputs": [],
   "source": [
    "df"
   ]
  },
  {
   "cell_type": "code",
   "execution_count": null,
   "id": "c4379b0c-c82d-4093-85aa-9076eae9ea0e",
   "metadata": {},
   "outputs": [],
   "source": [
    "df = df.sort_values(\"date\")"
   ]
  },
  {
   "cell_type": "code",
   "execution_count": null,
   "id": "204d4801-3ba0-403d-b444-95c93a65ca9a",
   "metadata": {},
   "outputs": [],
   "source": [
    "df = df.reset_index(drop=True)"
   ]
  },
  {
   "cell_type": "code",
   "execution_count": null,
   "id": "e8e5378e-c4d0-42b2-b7ae-188909b94edf",
   "metadata": {},
   "outputs": [],
   "source": [
    "del df[\"mp.1\"]\n",
    "del df[\"mp_opp.1\"]\n",
    "del df[\"index_opp\"]"
   ]
  },
  {
   "cell_type": "code",
   "execution_count": null,
   "id": "48246855-bc5f-46bc-a731-2b2ad55d142b",
   "metadata": {},
   "outputs": [],
   "source": [
    "def add_target(group):\n",
    "    group[\"target\"] = group[\"won\"].shift(-1)\n",
    "    return group\n",
    "\n",
    "df = df.groupby(\"team\", group_keys=False).apply(add_target)"
   ]
  },
  {
   "cell_type": "code",
   "execution_count": null,
   "id": "3acc722e-2a24-466d-b84a-cef30c21bb37",
   "metadata": {},
   "outputs": [],
   "source": [
    "df[df[\"team\"] == \"WAS\"]"
   ]
  },
  {
   "cell_type": "code",
   "execution_count": null,
   "id": "55404195-4ccb-43a6-a652-cc127a867936",
   "metadata": {},
   "outputs": [],
   "source": [
    "df[\"target\"][pd.isnull(df[\"target\"])] = 2\n",
    "df[\"target\"] = df[\"target\"].astype(int, errors=\"ignore\")"
   ]
  },
  {
   "cell_type": "code",
   "execution_count": null,
   "id": "a00bb05b-bdde-4cc5-8b7b-4ee8ee87e2ee",
   "metadata": {},
   "outputs": [],
   "source": [
    "df[\"won\"].value_counts()"
   ]
  },
  {
   "cell_type": "code",
   "execution_count": null,
   "id": "ce13c025-6b63-4fed-943f-b5d216290062",
   "metadata": {},
   "outputs": [],
   "source": [
    "df[\"target\"].value_counts()"
   ]
  },
  {
   "cell_type": "code",
   "execution_count": null,
   "id": "5d2ce057-5495-49c8-b714-1f880e89c851",
   "metadata": {},
   "outputs": [],
   "source": [
    "nulls = pd.isnull(df).sum()"
   ]
  },
  {
   "cell_type": "code",
   "execution_count": null,
   "id": "a378974b-b999-41ae-a596-0eb69eec6e13",
   "metadata": {},
   "outputs": [],
   "source": [
    "nulls = nulls[nulls > 0]"
   ]
  },
  {
   "cell_type": "code",
   "execution_count": null,
   "id": "b130a809-a8e4-4576-bd58-1c83f4411055",
   "metadata": {},
   "outputs": [],
   "source": [
    "valid_columns = df.columns[~df.columns.isin(nulls.index)]"
   ]
  },
  {
   "cell_type": "code",
   "execution_count": null,
   "id": "e1e5a38a-56b2-4b38-a653-08e03edbe2ed",
   "metadata": {},
   "outputs": [],
   "source": [
    "valid_columns"
   ]
  },
  {
   "cell_type": "code",
   "execution_count": null,
   "id": "baadf9a1-db5e-4711-8fe5-3772c1e4a98f",
   "metadata": {},
   "outputs": [],
   "source": [
    "df = df[valid_columns].copy()"
   ]
  },
  {
   "cell_type": "code",
   "execution_count": null,
   "id": "d7e27775-9816-4e1d-b888-b0015485afb2",
   "metadata": {},
   "outputs": [],
   "source": [
    "df"
   ]
  },
  {
   "cell_type": "code",
   "execution_count": null,
   "id": "5e957f2c-2215-4487-b8f7-95cbd5da381d",
   "metadata": {},
   "outputs": [],
   "source": [
    "from sklearn.linear_model import RidgeClassifier\n",
    "from sklearn.feature_selection import SequentialFeatureSelector\n",
    "from sklearn.model_selection import TimeSeriesSplit\n",
    "\n",
    "rr = RidgeClassifier(alpha=1)\n",
    "\n",
    "split = TimeSeriesSplit(n_splits=3)\n",
    "\n",
    "sfs = SequentialFeatureSelector(rr, \n",
    "                                n_features_to_select=30, \n",
    "                                direction=\"forward\",\n",
    "                                cv=split,\n",
    "                                n_jobs=1\n",
    "                               )"
   ]
  },
  {
   "cell_type": "code",
   "execution_count": null,
   "id": "86dee508-75e5-4093-b139-1f181f70a3f0",
   "metadata": {},
   "outputs": [],
   "source": [
    "removed_columns = [\"season\", \"date\", \"won\", \"target\", \"team\", \"team_opp\"]\n",
    "selected_columns = df.columns[~df.columns.isin(removed_columns)]"
   ]
  },
  {
   "cell_type": "code",
   "execution_count": null,
   "id": "e64ffd4e-0de8-4333-ac77-7f4420b16797",
   "metadata": {},
   "outputs": [],
   "source": [
    "from sklearn.preprocessing import MinMaxScaler\n",
    "\n",
    "scaler = MinMaxScaler()\n",
    "df[selected_columns] = scaler.fit_transform(df[selected_columns])"
   ]
  },
  {
   "cell_type": "code",
   "execution_count": null,
   "id": "4b5c2b3c-cf18-490b-86b4-1aeeaedde9bf",
   "metadata": {},
   "outputs": [],
   "source": [
    "df"
   ]
  },
  {
   "cell_type": "code",
   "execution_count": null,
   "id": "9b4f95e0-5d48-4466-a40c-61b0afb84a78",
   "metadata": {},
   "outputs": [],
   "source": [
    "sfs.fit(df[selected_columns], df[\"target\"])"
   ]
  },
  {
   "cell_type": "code",
   "execution_count": null,
   "id": "f65e084e-c119-45cb-9520-6166374bd4ce",
   "metadata": {},
   "outputs": [],
   "source": [
    "predictors = list(selected_columns[sfs.get_support()])"
   ]
  },
  {
   "cell_type": "code",
   "execution_count": null,
   "id": "e45c8b5f-1ad3-4ef3-bbf5-fac00ef2c0b2",
   "metadata": {},
   "outputs": [],
   "source": [
    "predictors"
   ]
  },
  {
   "cell_type": "code",
   "execution_count": null,
   "id": "22637b94-7542-4e26-8fb2-9d3d4541a99d",
   "metadata": {},
   "outputs": [],
   "source": [
    "def backtest(data, model, predictors, start=2, step=1):\n",
    "    all_predictions = []\n",
    "    \n",
    "    seasons = sorted(data[\"season\"].unique())\n",
    "    \n",
    "    for i in range(start, len(seasons), step):\n",
    "        season = seasons[i]\n",
    "        train = data[data[\"season\"] < season]\n",
    "        test = data[data[\"season\"] == season]\n",
    "        \n",
    "        model.fit(train[predictors], train[\"target\"])\n",
    "        \n",
    "        preds = model.predict(test[predictors])\n",
    "        preds = pd.Series(preds, index=test.index)\n",
    "        combined = pd.concat([test[\"target\"], preds], axis=1)\n",
    "        combined.columns = [\"actual\", \"prediction\"]\n",
    "        \n",
    "        all_predictions.append(combined)\n",
    "    return pd.concat(all_predictions)"
   ]
  },
  {
   "cell_type": "code",
   "execution_count": null,
   "id": "63bac672-ae69-4712-ae55-3ffa1a68d8db",
   "metadata": {},
   "outputs": [],
   "source": [
    "predictions = backtest(df, rr, predictors)"
   ]
  },
  {
   "cell_type": "code",
   "execution_count": null,
   "id": "777fe3e0-f9d4-4799-a1c5-327394c41563",
   "metadata": {},
   "outputs": [],
   "source": [
    "from sklearn.metrics import accuracy_score\n",
    "\n",
    "accuracy_score(predictions[\"actual\"], predictions[\"prediction\"])"
   ]
  },
  {
   "cell_type": "code",
   "execution_count": null,
   "id": "3256ae24-4417-47ed-a4c3-39f32012ea5d",
   "metadata": {},
   "outputs": [],
   "source": [
    "df.groupby([\"home\"]).apply(lambda x: x[x[\"won\"] == 1].shape[0] / x.shape[0])"
   ]
  },
  {
   "cell_type": "code",
   "execution_count": null,
   "id": "70f37c05-dbcb-4143-8ac6-876a4278dfb8",
   "metadata": {},
   "outputs": [],
   "source": [
    "df"
   ]
  },
  {
   "cell_type": "code",
   "execution_count": null,
   "id": "1e16086e-2cf0-4ec6-8a4f-f01b4381ccdb",
   "metadata": {},
   "outputs": [],
   "source": [
    "df_rolling = df[list(selected_columns) + [\"won\", \"team\", \"season\"]]\n",
    "\n",
    "def find_team_averages(team):\n",
    "    rolling = team.rolling(10).mean()\n",
    "    return rolling\n",
    "\n",
    "df_rolling = df_rolling.groupby([\"team\", \"season\"], group_keys=False).apply(find_team_averages)"
   ]
  },
  {
   "cell_type": "code",
   "execution_count": null,
   "id": "f5bbaca9-a5b6-4be7-8bd1-4660b414b56e",
   "metadata": {},
   "outputs": [],
   "source": [
    "df_rolling"
   ]
  },
  {
   "cell_type": "code",
   "execution_count": null,
   "id": "b9340d1c-136c-4947-8fad-c9ffb7f82f7f",
   "metadata": {},
   "outputs": [],
   "source": [
    "rolling_cols = [f\"{col}_10\" for col in df_rolling.columns]\n",
    "df_rolling.columns = rolling_cols\n",
    "df = pd.concat([df, df_rolling], axis=1)"
   ]
  },
  {
   "cell_type": "code",
   "execution_count": null,
   "id": "d66b64af-924f-4992-a1ef-efd012e160c0",
   "metadata": {},
   "outputs": [],
   "source": [
    "df = df.dropna()"
   ]
  },
  {
   "cell_type": "code",
   "execution_count": null,
   "id": "482c0985-d05d-48ca-be9d-5c96694be781",
   "metadata": {},
   "outputs": [],
   "source": [
    "df"
   ]
  },
  {
   "cell_type": "code",
   "execution_count": null,
   "id": "552f9b71-a43d-4f2a-967f-66f797e14205",
   "metadata": {},
   "outputs": [],
   "source": [
    "def shift_col(team, col_name):\n",
    "    next_col = team[col_name].shift(-1)\n",
    "    return next_col\n",
    "\n",
    "def add_col(df, col_name):\n",
    "    return df.groupby(\"team\", group_keys=False).apply(lambda x: shift_col(x, col_name))\n",
    "\n",
    "df[\"home_next\"] = add_col(df, \"home\")\n",
    "df[\"team_opp_next\"] = add_col(df, \"team_opp\")\n",
    "df[\"date_next\"] = add_col(df, \"date\")"
   ]
  },
  {
   "cell_type": "code",
   "execution_count": null,
   "id": "27ae49da-a5d6-4031-b4a4-f6cbe628ed6b",
   "metadata": {},
   "outputs": [],
   "source": [
    "df"
   ]
  },
  {
   "cell_type": "code",
   "execution_count": null,
   "id": "e269ac63-0a90-4166-9acf-b1956d7175ea",
   "metadata": {},
   "outputs": [],
   "source": [
    "full = df.merge(df[rolling_cols + [\"team_opp_next\", \"date_next\", \"team\"]], left_on=[\"team\", \"date_next\"], right_on=[\"team_opp_next\", \"date_next\"])"
   ]
  },
  {
   "cell_type": "code",
   "execution_count": null,
   "id": "fdd9be09-c507-46f5-a779-9cea0161d3a5",
   "metadata": {},
   "outputs": [],
   "source": [
    "full"
   ]
  },
  {
   "cell_type": "code",
   "execution_count": null,
   "id": "814ef22b-c0a4-4586-9478-2588dcd84480",
   "metadata": {},
   "outputs": [],
   "source": [
    "full[[\"team_x\", \"team_opp_next_x\", \"team_y\", \"team_opp_next_y\", \"date_next\"]]"
   ]
  },
  {
   "cell_type": "code",
   "execution_count": null,
   "id": "de70b797-8e68-48a1-87be-07a9f8ea7d2f",
   "metadata": {},
   "outputs": [],
   "source": [
    "removed_columns = list(full.columns[full.dtypes == \"object\"]) + removed_columns"
   ]
  },
  {
   "cell_type": "code",
   "execution_count": null,
   "id": "54ba003d-8da3-4f3d-bd38-e67fcff0b9dd",
   "metadata": {},
   "outputs": [],
   "source": [
    "removed_columns"
   ]
  },
  {
   "cell_type": "code",
   "execution_count": null,
   "id": "49629fd6-dbb4-4cb6-8e7d-e65501a3304a",
   "metadata": {},
   "outputs": [],
   "source": [
    "selected_columns = full.columns[~full.columns.isin(removed_columns)]\n",
    "sfs.fit(full[selected_columns], full[\"target\"])"
   ]
  },
  {
   "cell_type": "code",
   "execution_count": null,
   "id": "b6b1dc49-04f3-44c7-a0a1-9f818d6888cc",
   "metadata": {},
   "outputs": [],
   "source": [
    "predictors = list(selected_columns[sfs.get_support()])"
   ]
  },
  {
   "cell_type": "code",
   "execution_count": null,
   "id": "f728c4cd-ee7c-4a0d-a277-1098b429edaa",
   "metadata": {},
   "outputs": [],
   "source": [
    "predictors"
   ]
  },
  {
   "cell_type": "code",
   "execution_count": null,
   "id": "55029a21-8b87-49ae-aa6a-cc246faa4eeb",
   "metadata": {},
   "outputs": [],
   "source": [
    "predictions = backtest(full, rr, predictors)"
   ]
  },
  {
   "cell_type": "code",
   "execution_count": null,
   "id": "1a43e3dc-9b70-4125-9e9f-9ba457c81c98",
   "metadata": {},
   "outputs": [],
   "source": [
    "accuracy_score(predictions[\"actual\"], predictions[\"prediction\"])"
   ]
  },
  {
   "cell_type": "code",
   "execution_count": null,
   "id": "a3c8a030-53d3-4a2d-a34e-fb8931c15bdf",
   "metadata": {},
   "outputs": [],
   "source": []
  }
 ],
 "metadata": {
  "kernelspec": {
   "display_name": "Python 3 (ipykernel)",
   "language": "python",
   "name": "python3"
  },
  "language_info": {
   "codemirror_mode": {
    "name": "ipython",
    "version": 3
   },
   "file_extension": ".py",
   "mimetype": "text/x-python",
   "name": "python",
   "nbconvert_exporter": "python",
   "pygments_lexer": "ipython3",
   "version": "3.10.11"
  }
 },
 "nbformat": 4,
 "nbformat_minor": 5
}
